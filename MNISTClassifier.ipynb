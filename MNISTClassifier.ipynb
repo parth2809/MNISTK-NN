{
 "cells": [
  {
   "cell_type": "code",
   "execution_count": 1,
   "metadata": {},
   "outputs": [],
   "source": [
    "import numpy as np\n",
    "from scipy import stats\n",
    "trainData = np.loadtxt(\"trainData.txt\")\n",
    "validData = np.loadtxt(\"validationData.txt\")\n",
    "testData = np.loadtxt(\"testData.txt\")\n",
    "projectionMatrix = np.loadtxt(\"projection.txt\")\n"
   ]
  },
  {
   "cell_type": "code",
   "execution_count": 2,
   "metadata": {},
   "outputs": [],
   "source": [
    "trainDataFeatures=trainData[:,-1]\n",
    "trainDataForProjection = trainData[:,0:-1]\n",
    "testDataFeatures=testData[:,-1]\n",
    "testDataForProjection = testData[:,0:-1]\n",
    "validDataFeatures=validData[:,-1]\n",
    "validDataForProjection = validData[:,0:-1]\n",
    "projectedTrainingData=np.dot(trainDataForProjection,projectionMatrix)\n",
    "projectedTrainingData=np.append(projectedTrainingData, trainDataFeatures[:, None], axis=1)\n",
    "projectedTestData=np.dot(testDataForProjection,projectionMatrix)\n",
    "projectedTestData=np.append(projectedTestData, testDataFeatures[:, None], axis=1)\n",
    "projectedvalidData=np.dot(validDataForProjection,projectionMatrix)\n",
    "projectedvalidData=np.append(projectedvalidData, validDataFeatures[:, None], axis=1)"
   ]
  },
  {
   "cell_type": "code",
   "execution_count": 3,
   "metadata": {},
   "outputs": [],
   "source": [
    "def sortArrayOfTuples(ArrayOfT):\n",
    "    ArrayOfT.sort(key = lambda x: x[0]) \n",
    "    return ArrayOfT"
   ]
  },
  {
   "cell_type": "code",
   "execution_count": 4,
   "metadata": {},
   "outputs": [],
   "source": [
    "def createArraysAndTuple(data, trainDataSet):\n",
    "    listOfArrays = []    \n",
    "    for i in data:\n",
    "        listOfTuples=[]\n",
    "        for j in trainDataSet:\n",
    "            dist=np.linalg.norm(i[0:-1]-j[0:-1]);\n",
    "            c=(dist,j[-1])\n",
    "            listOfTuples.append(c)\n",
    "        listOfArrays.append(listOfTuples)   \n",
    "    return listOfArrays"
   ]
  },
  {
   "cell_type": "code",
   "execution_count": 5,
   "metadata": {},
   "outputs": [],
   "source": [
    "#For K-N Classifier\n",
    "def NearestNeighbour(n, data, listOfArrays):\n",
    "    mistakeCounter=0;\n",
    "    dataIncrementer=0\n",
    "    for i in listOfArrays:\n",
    "        listForMode=np.array([])\n",
    "        for j in range(n):\n",
    "            listForMode=np.append(listForMode, i[j][1])\n",
    "            mode=stats.mode(listForMode)\n",
    "        if(mode.mode!=data[dataIncrementer][-1]):\n",
    "            mistakeCounter+=1\n",
    "        dataIncrementer+=1\n",
    "\n",
    "    trainError=mistakeCounter/len(data)\n",
    "    return trainError"
   ]
  },
  {
   "cell_type": "code",
   "execution_count": 6,
   "metadata": {},
   "outputs": [
    {
     "name": "stdout",
     "output_type": "stream",
     "text": [
      "Errors on Training Data:\n",
      "Error on K-1 classfier:0.0\n",
      "Error on K-5 classfier:0.0565\n",
      "Error on K-9 classfier:0.0685\n",
      "Error on K-15 classfier:0.0925\n",
      "\n"
     ]
    }
   ],
   "source": [
    "listOfArrays=createArraysAndTuple(trainData, trainData)\n",
    "for i in listOfArrays:\n",
    "    i=sortArrayOfTuples(i)\n",
    "print(\"Errors on Training Data:\")\n",
    "print(\"Error on K-1 classfier:\" + str(NearestNeighbour(1, trainData, listOfArrays)))\n",
    "print(\"Error on K-5 classfier:\" + str(NearestNeighbour(5, trainData, listOfArrays)))\n",
    "print(\"Error on K-9 classfier:\" + str(NearestNeighbour(9, trainData, listOfArrays)))\n",
    "print(\"Error on K-15 classfier:\" + str(NearestNeighbour(15, trainData, listOfArrays)))\n",
    "print(\"\")"
   ]
  },
  {
   "cell_type": "code",
   "execution_count": 7,
   "metadata": {},
   "outputs": [
    {
     "name": "stdout",
     "output_type": "stream",
     "text": [
      "Errors on Valid Data:\n",
      "Error on K-1 classfier:0.082\n",
      "Error on K-5 classfier:0.095\n",
      "Error on K-9 classfier:0.104\n",
      "Error on K-15 classfier:0.108\n",
      "\n"
     ]
    }
   ],
   "source": [
    "listOfArrays=createArraysAndTuple(validData, trainData)\n",
    "for i in listOfArrays:\n",
    "    i=sortArrayOfTuples(i)\n",
    "print(\"Errors on Valid Data:\")\n",
    "print(\"Error on K-1 classfier:\" + str(NearestNeighbour(1, validData, listOfArrays)))\n",
    "print(\"Error on K-5 classfier:\" + str(NearestNeighbour(5, validData, listOfArrays)))\n",
    "print(\"Error on K-9 classfier:\" + str(NearestNeighbour(9, validData, listOfArrays)))\n",
    "print(\"Error on K-15 classfier:\" + str(NearestNeighbour(15, validData, listOfArrays)))\n",
    "print(\"\")"
   ]
  },
  {
   "cell_type": "code",
   "execution_count": 8,
   "metadata": {},
   "outputs": [
    {
     "name": "stdout",
     "output_type": "stream",
     "text": [
      "Errors on Test Data:\n",
      "Error on K-1 classfier:0.094\n",
      "Error on K-5 classfier:0.098\n",
      "Error on K-9 classfier:0.101\n",
      "Error on K-15 classfier:0.114\n",
      "\n"
     ]
    }
   ],
   "source": [
    "listOfArrays=createArraysAndTuple(testData, trainData)\n",
    "for i in listOfArrays:\n",
    "    i=sortArrayOfTuples(i)\n",
    "print(\"Errors on Test Data:\")\n",
    "print(\"Error on K-1 classfier:\" + str(NearestNeighbour(1, testData, listOfArrays)))\n",
    "print(\"Error on K-5 classfier:\" + str(NearestNeighbour(5, testData, listOfArrays)))\n",
    "print(\"Error on K-9 classfier:\" + str(NearestNeighbour(9, testData, listOfArrays)))\n",
    "print(\"Error on K-15 classfier:\" + str(NearestNeighbour(15, testData, listOfArrays)))\n",
    "print(\"\")"
   ]
  },
  {
   "cell_type": "code",
   "execution_count": 9,
   "metadata": {},
   "outputs": [
    {
     "name": "stdout",
     "output_type": "stream",
     "text": [
      "Errors on Training Data Projection:\n",
      "Error on K-1 classfier:0.0\n",
      "Error on K-5 classfier:0.1945\n",
      "Error on K-9 classfier:0.2305\n",
      "Error on K-15 classfier:0.257\n",
      "\n"
     ]
    }
   ],
   "source": [
    "listOfArrays=createArraysAndTuple(projectedTrainingData, projectedTrainingData)\n",
    "for i in listOfArrays:\n",
    "    i=sortArrayOfTuples(i)\n",
    "print(\"Errors on Training Data Projection:\")\n",
    "print(\"Error on K-1 classfier:\" + str(NearestNeighbour(1, projectedTrainingData, listOfArrays)))\n",
    "print(\"Error on K-5 classfier:\" + str(NearestNeighbour(5, projectedTrainingData, listOfArrays)))\n",
    "print(\"Error on K-9 classfier:\" + str(NearestNeighbour(9, projectedTrainingData, listOfArrays)))\n",
    "print(\"Error on K-15 classfier:\" + str(NearestNeighbour(15, projectedTrainingData, listOfArrays)))\n",
    "print(\"\")"
   ]
  },
  {
   "cell_type": "code",
   "execution_count": 10,
   "metadata": {},
   "outputs": [
    {
     "name": "stdout",
     "output_type": "stream",
     "text": [
      "Errors on Test Data Projection:\n",
      "Error on K-1 classfier:0.314\n",
      "Error on K-5 classfier:0.301\n",
      "Error on K-9 classfier:0.293\n",
      "Error on K-15 classfier:0.296\n",
      "\n"
     ]
    }
   ],
   "source": [
    "listOfArrays=createArraysAndTuple(projectedTestData, projectedTrainingData)\n",
    "for i in listOfArrays:\n",
    "    i=sortArrayOfTuples(i)\n",
    "print(\"Errors on Test Data Projection:\")\n",
    "print(\"Error on K-1 classfier:\" + str(NearestNeighbour(1, projectedTestData, listOfArrays)))\n",
    "print(\"Error on K-5 classfier:\" + str(NearestNeighbour(5, projectedTestData, listOfArrays)))\n",
    "print(\"Error on K-9 classfier:\" + str(NearestNeighbour(9, projectedTestData, listOfArrays)))\n",
    "print(\"Error on K-15 classfier:\" + str(NearestNeighbour(15, projectedTestData, listOfArrays)))\n",
    "print(\"\")"
   ]
  },
  {
   "cell_type": "code",
   "execution_count": 11,
   "metadata": {},
   "outputs": [
    {
     "name": "stdout",
     "output_type": "stream",
     "text": [
      "Errors on Valid Data Projection\n",
      "Error on K-1 classfier:0.32\n",
      "Error on K-5 classfier:0.299\n",
      "Error on K-9 classfier:0.302\n",
      "Error on K-15 classfier:0.289\n"
     ]
    }
   ],
   "source": [
    "listOfArrays=createArraysAndTuple(projectedvalidData, projectedTrainingData)\n",
    "for i in listOfArrays:\n",
    "    i=sortArrayOfTuples(i)\n",
    "print(\"Errors on Valid Data Projection\")\n",
    "print(\"Error on K-1 classfier:\" + str(NearestNeighbour(1, projectedvalidData, listOfArrays)))\n",
    "print(\"Error on K-5 classfier:\" + str(NearestNeighbour(5, projectedvalidData, listOfArrays)))\n",
    "print(\"Error on K-9 classfier:\" + str(NearestNeighbour(9, projectedvalidData, listOfArrays)))\n",
    "print(\"Error on K-15 classfier:\" + str(NearestNeighbour(15, projectedvalidData, listOfArrays)))"
   ]
  }
 ],
 "metadata": {
  "kernelspec": {
   "display_name": "Python 3",
   "language": "python",
   "name": "python3"
  },
  "language_info": {
   "codemirror_mode": {
    "name": "ipython",
    "version": 3
   },
   "file_extension": ".py",
   "mimetype": "text/x-python",
   "name": "python",
   "nbconvert_exporter": "python",
   "pygments_lexer": "ipython3",
   "version": "3.7.6"
  }
 },
 "nbformat": 4,
 "nbformat_minor": 4
}
